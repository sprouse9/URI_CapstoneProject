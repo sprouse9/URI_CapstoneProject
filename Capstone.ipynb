{
 "cells": [
  {
   "cell_type": "markdown",
   "id": "d14fd5a2-55fd-4776-bd24-948d95039b03",
   "metadata": {
    "id": "d14fd5a2-55fd-4776-bd24-948d95039b03"
   },
   "source": [
    "## The first cell will only execute if you're using Google Colab AND have not cloned the repository yet"
   ]
  },
  {
   "cell_type": "code",
   "execution_count": 1,
   "id": "1e1ce71f-5741-4b43-bed9-992586467ef1",
   "metadata": {
    "colab": {
     "base_uri": "https://localhost:8080/"
    },
    "id": "1e1ce71f-5741-4b43-bed9-992586467ef1",
    "outputId": "1d2f59ef-3c5b-4776-834c-b1a20dd0b060"
   },
   "outputs": [],
   "source": [
    "import os\n",
    "import sys\n",
    "import subprocess\n",
    "\n",
    "# Check if running in Google Colab\n",
    "colab_setup = \"google.colab\" in sys.modules\n",
    "\n",
    "repo_url = \"https://github.com/sprouse9/URI_CapstoneProject.git\"\n",
    "repo_name = \"URI_CapstoneProject\"\n",
    "\n",
    "# Clone only if running in Google Colab. Prevent cloning repo if already cloned.\n",
    "if colab_setup and not os.path.exists('../' + repo_name):\n",
    "    # Clone the repository if not already cloned\n",
    "\n",
    "    if not os.path.exists(repo_name):\n",
    "        print(f\"Cloning repository: {repo_url}...\")\n",
    "        !git clone {repo_url}\n",
    "\n",
    "    # Change directory to the repository\n",
    "    %cd {repo_name}"
   ]
  },
  {
   "cell_type": "markdown",
   "id": "5caa44b7-c42e-412f-a2b5-70de03159230",
   "metadata": {
    "id": "5caa44b7-c42e-412f-a2b5-70de03159230"
   },
   "source": [
    "#### This next cell takes care of the dataset download from my Google Drive as a zip file.  \n",
    "#### The zip file will be auto extracted to your local machine or instance of Colab.\n",
    "#### The download will not occur if the zip file or the extracted folder already exists.\n",
    "#### The data folder 'archive' will not be unzipped again if already exists"
   ]
  },
  {
   "cell_type": "code",
   "execution_count": 2,
   "id": "e9fa35aa-d415-48bf-a1a8-791d1a0383bf",
   "metadata": {
    "colab": {
     "base_uri": "https://localhost:8080/"
    },
    "id": "e9fa35aa-d415-48bf-a1a8-791d1a0383bf",
    "outputId": "71c9a3f8-d150-458d-e1f3-0f23aa4e1a1e"
   },
   "outputs": [
    {
     "name": "stdout",
     "output_type": "stream",
     "text": [
      "Working dir: C:\\Users\\RyzenGaming\\source\\repos\\URI_CapstoneProject\n",
      "Skipping download. CarDetectionDataSet.zip or archive already exists.\n",
      "archive already exists. Skipping extraction.\n"
     ]
    }
   ],
   "source": [
    "import zipfile\n",
    "import importlib.util\n",
    "\n",
    "zip_filename = \"CarDetectionDataSet.zip\"\n",
    "extract_folder = \"archive\"  # Define the folder where files are extracted\n",
    "\n",
    "print(f\"Working dir: {os.getcwd()}\")  # This shows your current working directory\n",
    "\n",
    "# Download only if the zip file and extracted folder don't exist\n",
    "if not os.path.exists(zip_filename) and not os.path.exists(extract_folder):\n",
    "    # Check if gdown is installed before attempting to install\n",
    "    if importlib.util.find_spec(\"gdown\") is None:\n",
    "        print(\"gdown not found. Installing...\")\n",
    "        !pip install gdown\n",
    "\n",
    "    print(f\"{zip_filename} not found. Downloading...\")\n",
    "    !gdown 1JFAfrbUfXtiF-xwko2ACB-snDwIsj31h -O {zip_filename}\n",
    "else:\n",
    "    print(f\"Skipping download. {zip_filename} or {extract_folder} already exists.\")\n",
    "\n",
    "# Extract only if the extracted folder does not exist\n",
    "if not os.path.exists(extract_folder):\n",
    "    print(f\"Extracting {zip_filename}...\")\n",
    "    with zipfile.ZipFile(zip_filename, 'r') as zip_ref:\n",
    "        zip_ref.extractall()\n",
    "    print(f\"Extraction complete: {extract_folder}\")\n",
    "else:\n",
    "    print(f\"{extract_folder} already exists. Skipping extraction.\")\n"
   ]
  },
  {
   "cell_type": "markdown",
   "id": "3f7a1529-0d10-4711-82e9-f022f217e69a",
   "metadata": {
    "id": "3f7a1529-0d10-4711-82e9-f022f217e69a"
   },
   "source": [
    "## The data folder has been setup."
   ]
  },
  {
   "cell_type": "code",
   "execution_count": 3,
   "id": "73d4b995-6598-4c5d-9303-5578ad25b537",
   "metadata": {
    "colab": {
     "base_uri": "https://localhost:8080/"
    },
    "id": "73d4b995-6598-4c5d-9303-5578ad25b537",
    "outputId": "e54a64ae-b902-4c14-fc43-a8ec6747e932"
   },
   "outputs": [
    {
     "name": "stdout",
     "output_type": "stream",
     "text": [
      "PyTorch Version: 2.6.0+cu118\n"
     ]
    }
   ],
   "source": [
    "if importlib.util.find_spec(\"ultralytics\") is None:\n",
    "    print(\"gdown not found. Installing...\")\n",
    "    !pip install -q ultralytics\n",
    "\n",
    "if importlib.util.find_spec(\"torch\") is None:\n",
    "    print(\"torch not found. Installing...\")\n",
    "    !pip install -q torch\n",
    "\n",
    "import torch\n",
    "print(\"PyTorch Version:\", torch.__version__)"
   ]
  },
  {
   "cell_type": "code",
   "execution_count": 4,
   "id": "84048bf0-73db-4759-88e1-2481d643f27f",
   "metadata": {
    "colab": {
     "base_uri": "https://localhost:8080/"
    },
    "id": "84048bf0-73db-4759-88e1-2481d643f27f",
    "outputId": "ec81beca-0c1d-46c6-d312-6c4743821233"
   },
   "outputs": [
    {
     "name": "stdout",
     "output_type": "stream",
     "text": [
      "Resolved dataset path: C:\\Users\\RyzenGaming\\source\\repos\\URI_CapstoneProject\\archive\n"
     ]
    }
   ],
   "source": [
    "# take care of library related path issues regardless of the\n",
    "# Operating system used\n",
    "\n",
    "import yaml\n",
    "\n",
    "# Load the existing dataset.yaml configuration\n",
    "with open('dataset.yaml', 'r') as f:\n",
    "    dataset = yaml.safe_load(f)\n",
    "\n",
    "# Get the current working directory\n",
    "cwd = os.getcwd()\n",
    "\n",
    "# Dynamically adjust the 'path'\n",
    "# This sets an absolute path for ultralytics so that it resolves correctly\n",
    "# Shouldn't be necessary but here we are\n",
    "dataset['path'] = os.path.join(cwd, 'archive')\n",
    "\n",
    "print(\"Resolved dataset path:\", dataset['path'])\n",
    "\n",
    "with open('dataset_updated.yaml', 'w') as f:\n",
    "    yaml.dump(dataset, f)"
   ]
  },
  {
   "cell_type": "code",
   "execution_count": 5,
   "id": "hwzhmD99k9dw",
   "metadata": {
    "colab": {
     "base_uri": "https://localhost:8080/"
    },
    "id": "hwzhmD99k9dw",
    "outputId": "5fd0cd2a-9f48-463a-ab5a-aea1eed0503d"
   },
   "outputs": [
    {
     "name": "stdout",
     "output_type": "stream",
     "text": [
      "Using GPU (NVIDIA GeForce RTX 3060 Ti) with 8.59 GB VRAM\n",
      "GPU VRAM: 7.9993896484375 GiB\n",
      "Available VRAM: 0.00 GB\n"
     ]
    }
   ],
   "source": [
    "# Get GPU name and VRAM\n",
    "\n",
    "# Set the device: use \"cuda\" if available, otherwise \"cpu\"\n",
    "device = \"cuda\" if torch.cuda.is_available() else \"cpu\"\n",
    "\n",
    "# Optionally, get VRAM information if using a GPU\n",
    "if device == \"cuda\":\n",
    "    vram = torch.cuda.get_device_properties(0).total_memory / 1e9  # Convert bytes to GB\n",
    "    gpu_name = torch.cuda.get_device_name(0)\n",
    "    print(f\"Using GPU ({gpu_name}) with {vram:.2f} GB VRAM\")\n",
    "else:\n",
    "    vram = None\n",
    "    print(\"Using CPU\")\n",
    "\n",
    "#print(\"GPU Name:\", gpu_name)\n",
    "print(\"GPU VRAM:\", torch.cuda.get_device_properties(0).total_memory / (1024**3), \"GiB\")\n",
    "print(f\"Available VRAM: {torch.cuda.memory_reserved(0) / 1e9:.2f} GB\")"
   ]
  },
  {
   "cell_type": "code",
   "execution_count": null,
   "id": "88dc2625-ab0a-4522-8df1-3f04e49efefa",
   "metadata": {
    "colab": {
     "base_uri": "https://localhost:8080/"
    },
    "id": "88dc2625-ab0a-4522-8df1-3f04e49efefa",
    "outputId": "aa88ffe6-95b3-48e6-ef80-461c508ecdde"
   },
   "outputs": [],
   "source": [
    "import pandas as pd\n",
    "from ultralytics import YOLO\n",
    "\n",
    "if device == \"cuda\":\n",
    "    learning_rates = [0.0005, 0.002, 0.01]\n",
    "    epochs_list = [10, 20, 50]\n",
    "    image_sz = 640\n",
    "    # Using a tiered approach based on available VRAM:\n",
    "    if vram >= 15:\n",
    "        print(\"VRAM is very large\")\n",
    "        batch_sz = 64\n",
    "    elif vram > 8:\n",
    "        print(\"VRAM is large\")\n",
    "        batch_sz = 32  # a moderate increase\n",
    "    else:\n",
    "        batch_sz = 16\n",
    "else:\n",
    "    learning_rates = [0.0005, 0.002]\n",
    "    epochs_list = [10]\n",
    "    image_sz = 320\n",
    "    batch_sz = 4\n",
    "\n",
    "# List to store results from each experiment\n",
    "results_summary = []\n",
    "\n",
    "for lr in learning_rates:\n",
    "    for epochs in epochs_list:\n",
    "        print(f\"Training with lr: {lr}, epochs: {epochs}, imgsz:{image_sz}\")\n",
    "\n",
    "        # Conditionally clear CUDA memory if available\n",
    "        if device == \"cuda\":\n",
    "          torch.cuda.empty_cache()\n",
    "          torch.cuda.ipc_collect()\n",
    "        else:\n",
    "          print(\"CUDA not available; skipping CUDA memory cleanup.\")\n",
    "\n",
    "        # Initialize the model\n",
    "        model = YOLO(\"yolov8n.pt\")\n",
    "\n",
    "        # Train the model with the current hyperparameters\n",
    "        results = model.train(\n",
    "            data=\"dataset_updated.yaml\",\n",
    "            epochs=epochs,\n",
    "            batch=batch_sz,\n",
    "            imgsz=image_sz,\n",
    "            lr0=lr,\n",
    "            #cache=True,\n",
    "            cache='disk',\n",
    "            optimizer=\"AdamW\",\n",
    "            project=f\"runs/train/lr{lr}_ep{epochs}_{image_sz}\"\n",
    "        )\n",
    "\n",
    "        # Get the results dictionary\n",
    "        rdict = results.results_dict  # Contains keys like 'metrics/precision(B)' etc.\n",
    "\n",
    "        # Append the metrics along with the hyperparameters to our list\n",
    "        results_summary.append({\n",
    "            \"lr\": lr,\n",
    "            \"epochs\": epochs,\n",
    "            \"precision\": rdict.get(\"metrics/precision(B)\", None),\n",
    "            \"recall\": rdict.get(\"metrics/recall(B)\", None),\n",
    "            \"mAP50\": rdict.get(\"metrics/mAP50(B)\", None),\n",
    "            \"mAP50-95\": rdict.get(\"metrics/mAP50-95(B)\", None),\n",
    "            \"fitness\": rdict.get(\"fitness\", None)\n",
    "        })\n",
    "\n",
    "\n",
    "        # Conditionally clear CUDA memory if available\n",
    "        # if torch.cuda.is_available():\n",
    "        #    torch.cuda.empty_cache()\n",
    "        #    torch.cuda.ipc_collect()\n",
    "        # else:\n",
    "        #     print(\"CUDA not available; skipping CUDA memory cleanup.\")\n",
    "\n",
    "\n",
    "# Convert the results list into a DataFrame for easy viewing\n",
    "results_df = pd.DataFrame(results_summary)\n",
    "print(\"\\nBaseline Metrics for Each Test:\")\n",
    "print(results_df)"
   ]
  },
  {
   "cell_type": "markdown",
   "id": "a34e43fb-6aca-40ad-87c7-ffe198800757",
   "metadata": {},
   "source": [
    "### Baseline Metrics for Each Test:\n",
    "\n",
    "|   lr   | epochs | precision |  recall  |   mAP50   | mAP50-95 | fitness |\n",
    "|--------|---------|-----------|----------|-----------|-----------|----------|\n",
    "| 0.0005 |    10   | 0.928012  | 0.562112 | 0.821413  | 0.609509  | 0.630699 |\n",
    "| 0.0005 |    20   | 0.849446  | 0.784161 | 0.892621  | 0.694569  | 0.714374 |\n",
    "| 0.0005 |    50   | 0.829223  | 0.821429 | 0.907031  | 0.726589  | 0.744633 |\n",
    "| 0.0020 |    10   | 0.945445  | 0.618930 | 0.849143  | 0.664448  | 0.682917 |\n",
    "| 0.0020 |    20   | 0.832686  | 0.803705 | 0.895060  | 0.718127  | 0.735820 |\n",
    "| 0.0020 |    50   | 0.854076  | 0.808862 | 0.909397  | 0.750816  | 0.766674 |\n",
    "| 0.0100 |    10   | 0.870470  | 0.739130 | 0.862304  | 0.596275  | 0.622878 |\n",
    "| 0.0100 |    20   | 0.917089  | 0.754658 | 0.879957  | 0.705703  | 0.723128 |\n",
    "| 0.0100 |    50   | 0.949638  | 0.768634 | 0.927499  | 0.777226  | 0.792253 |\n"
   ]
  },
  {
   "cell_type": "code",
   "execution_count": null,
   "id": "46c53f43-ee6b-43a5-8c4a-4de8f3931915",
   "metadata": {},
   "outputs": [],
   "source": [
    "import torch\n",
    "from ultralytics import YOLO\n",
    "\n",
    "# Check if GPU is available\n",
    "#device = \"cuda\" if torch.cuda.is_available() else \"cpu\"\n",
    "#print(\"Device set to:\", device)\n",
    "\n",
    "# Initialize the YOLOv8n model\n",
    "model = YOLO(\"yolov8n.pt\")\n",
    "\n",
    "# Define a search space for hyperparameter tuning\n",
    "# You can add or remove parameters as needed.\n",
    "search_space = {\n",
    "    \"lr0\": (1e-5, 1e-1),            # Initial learning rate\n",
    "    \"degrees\": (0.0, 45.0),         # Rotation augmentation range\n",
    "    \"momentum\": (0.6, 0.98),        # Momentum for SGD\n",
    "    \"weight_decay\": (0.0, 0.001),   # L2 regularization\n",
    "    \"scale\": (0.0, 0.9)             # Scaling augmentation range\n",
    "}\n",
    "\n",
    "# Perform hyperparameter tuning using the Tuner class\n",
    "# Note: 'data' should point to your dataset configuration file\n",
    "results = model.tune(\n",
    "    data=\"dataset_updated.yaml\",\n",
    "    epochs=40,             # Train for this many epochs per tuning iteration\n",
    "    iterations=50,         # Number of tuning iterations (adjust as necessary)\n",
    "    optimizer=\"AdamW\",     # Use the AdamW optimizer\n",
    "    space=search_space,    # The defined search space\n",
    "    plots=True,            # Skip plotting for faster tuning\n",
    "    save=True,             # Skip checkpointing to reduce overhead\n",
    "    val=True               # Skip validation until the final epoch for faster tuning\n",
    ")\n",
    "\n",
    "# Print out the best hyperparameters found\n",
    "print(\"Tuning complete. Best hyperparameters:\")\n",
    "print(results.best_hyperparameters)\n"
   ]
  },
  {
   "cell_type": "code",
   "execution_count": null,
   "id": "c9e1543b-3504-405a-b94f-28b5b56c4d6c",
   "metadata": {},
   "outputs": [],
   "source": [
    "results.best_hyperparameters"
   ]
  },
  {
   "cell_type": "code",
   "execution_count": null,
   "id": "e5807a50-6fdb-4715-8a3b-e14bfbcdf906",
   "metadata": {},
   "outputs": [],
   "source": [
    "# using the best parameter found, let's train the model with the image size to the actual 1920x1080\n",
    "\n",
    "# List to store results from each experiment\n",
    "results_summary = []\n",
    "\n",
    "# Conditionally clear CUDA memory if available\n",
    "if device == \"cuda\":\n",
    "    torch.cuda.empty_cache()\n",
    "    torch.cuda.ipc_collect()\n",
    "else:\n",
    "    print(\"CUDA not available; skipping CUDA memory cleanup.\")\n",
    "\n",
    "# Initialize the model\n",
    "model = YOLO(\"yolov8n.pt\")\n",
    "\n",
    "lr = 0.01\n",
    "epochs=50\n",
    "\n",
    "# Train the model with the current hyperparameters\n",
    "results = model.train(\n",
    "        data=\"dataset_updated.yaml\",\n",
    "        epochs=50,\n",
    "        batch=8,\n",
    "        imgsz=1920,\n",
    "        lr0=lr,\n",
    "        #cache=True,\n",
    "        cache='disk',\n",
    "        optimizer=\"AdamW\",\n",
    "        project=f\"runs/train/lr{lr}_ep{epochs}_imgsz1920\"\n",
    "        )\n",
    "\n",
    "# Get the results dictionary\n",
    "rdict = results.results_dict  # Contains keys like 'metrics/precision(B)' etc.\n",
    "\n",
    "# Append the metrics along with the hyperparameters to our list\n",
    "results_summary.append({\n",
    "            \"lr\": 0.01,\n",
    "            \"epochs\": epochs,\n",
    "            \"precision\": rdict.get(\"metrics/precision(B)\", None),\n",
    "            \"recall\": rdict.get(\"metrics/recall(B)\", None),\n",
    "            \"mAP50\": rdict.get(\"metrics/mAP50(B)\", None),\n",
    "            \"mAP50-95\": rdict.get(\"metrics/mAP50-95(B)\", None),\n",
    "            \"fitness\": rdict.get(\"fitness\", None)\n",
    "        })\n",
    "\n",
    "\n",
    "# Convert the results list into a DataFrame for easy viewing\n",
    "results_df = pd.DataFrame(results_summary)\n",
    "print(\"\\nBaseline Metrics for Each Test:\")\n",
    "print(results_df)\n"
   ]
  },
  {
   "cell_type": "code",
   "execution_count": 4,
   "id": "1fe83fa4-2f52-42c2-91bf-1743a80469c6",
   "metadata": {},
   "outputs": [
    {
     "name": "stdout",
     "output_type": "stream",
     "text": [
      "The 'results' object is not available.\n"
     ]
    }
   ],
   "source": [
    "# Check if the results object exists and display the best hyperparameters\n",
    "if 'results' in locals():\n",
    "    print(\"Tuning complete. Best hyperparameters:\")\n",
    "    print(results.best_hyperparameters)\n",
    "else:\n",
    "    print(\"The 'results' object is not available.\")\n"
   ]
  },
  {
   "cell_type": "code",
   "execution_count": 7,
   "id": "779cb80f-3101-428b-be30-ddc676ed37b4",
   "metadata": {},
   "outputs": [
    {
     "name": "stdout",
     "output_type": "stream",
     "text": [
      "\n",
      "Tuning Results:\n",
      "   fitness      lr0  degrees  momentum  weight_decay    scale\n",
      "0  0.00000  0.01000      0.0   0.93700       0.00050  0.50000\n",
      "1  0.00000  0.00887      0.0   0.98000       0.00051  0.52147\n",
      "2  0.76813  0.01027      0.0   0.76892       0.00045  0.52030\n",
      "3  0.77379  0.00779      0.0   0.76892       0.00053  0.49947\n",
      "4  0.76679  0.01106      0.0   0.76892       0.00040  0.42310\n"
     ]
    }
   ],
   "source": [
    "import pandas as pd\n",
    "\n",
    "# Load and display the tuning results from the CSV file\n",
    "tune_results_path = \"runs/detect/tune/tune_results.csv\"\n",
    "tune_results_df = pd.read_csv(tune_results_path)\n",
    "print(\"\\nTuning Results:\")\n",
    "print(tune_results_df.head())  # Display the first few rows\n"
   ]
  },
  {
   "cell_type": "code",
   "execution_count": 8,
   "id": "b3b03390-eae6-4a20-999c-a8efa77ae518",
   "metadata": {},
   "outputs": [
    {
     "name": "stdout",
     "output_type": "stream",
     "text": [
      "\n",
      "Best Hyperparameters Found:\n",
      "{'lr0': 0.01098, 'degrees': 0.0, 'momentum': 0.80203, 'weight_decay': 0.00039, 'scale': 0.33385}\n"
     ]
    }
   ],
   "source": [
    "import yaml\n",
    "\n",
    "# Load and display the best hyperparameters from the YAML file\n",
    "best_hyperparams_path = \"runs/detect/tune/best_hyperparameters.yaml\"\n",
    "with open(best_hyperparams_path, 'r') as file:\n",
    "    best_hyperparameters = yaml.safe_load(file)\n",
    "\n",
    "print(\"\\nBest Hyperparameters Found:\")\n",
    "print(best_hyperparameters)\n"
   ]
  },
  {
   "cell_type": "code",
   "execution_count": null,
   "id": "f75443d3-a762-44c0-9087-05d2edfc10e3",
   "metadata": {},
   "outputs": [],
   "source": [
    "from ultralytics import YOLO\n",
    "\n",
    "# Initialize the YOLO model\n",
    "model = YOLO(\"yolov8n.pt\")  # Replace with the appropriate YOLO model if needed\n",
    "\n",
    "# Train using the best hyperparameters\n",
    "results = model.train(\n",
    "    data=\"dataset_updated.yaml\",          \n",
    "    epochs=50,                            # You can adjust epochs as needed\n",
    "    batch=best_hyperparameters.get(\"batch\", 8),  # 8 is the default if parameter not found\n",
    "    imgsz=best_hyperparameters.get(\"imgsz\", 640),\n",
    "    lr0=best_hyperparameters.get(\"lr0\", 0.002),\n",
    "    optimizer=best_hyperparameters.get(\"optimizer\", \"AdamW\"),\n",
    "    project=\"runs/train_best_hyperparams\",\n",
    "    cache='disk'\n",
    ")\n",
    "\n",
    "# Display the results\n",
    "print(\"\\nTraining Complete. Results:\")\n",
    "print(results)\n"
   ]
  },
  {
   "cell_type": "code",
   "execution_count": 16,
   "id": "7065c548-c2ef-44e0-8792-90e5f92a461b",
   "metadata": {},
   "outputs": [
    {
     "data": {
      "text/plain": [
       "{'metrics/precision(B)': 0.9453313375058685,\n",
       " 'metrics/recall(B)': 0.7670807453416149,\n",
       " 'metrics/mAP50(B)': 0.9171910895522071,\n",
       " 'metrics/mAP50-95(B)': 0.7776969412755597,\n",
       " 'fitness': 0.7916463561032244}"
      ]
     },
     "execution_count": 16,
     "metadata": {},
     "output_type": "execute_result"
    }
   ],
   "source": [
    "results.results_dict"
   ]
  },
  {
   "cell_type": "markdown",
   "id": "6288b3c7-5fb2-461c-848e-95dc35c6b2de",
   "metadata": {},
   "source": [
    "Our fitness score with the tuned model is 0.7916 vs 0.79225 for the best model in our gridsearch."
   ]
  },
  {
   "cell_type": "code",
   "execution_count": 6,
   "id": "c31200a9-7750-4ad8-9140-15c7488bf4fa",
   "metadata": {
    "scrolled": true
   },
   "outputs": [
    {
     "name": "stdout",
     "output_type": "stream",
     "text": [
      "New https://pypi.org/project/ultralytics/8.3.78 available  Update with 'pip install -U ultralytics'\n",
      "Ultralytics 8.3.75  Python-3.9.21 torch-2.6.0+cu118 CUDA:0 (NVIDIA GeForce RTX 3060 Ti, 8191MiB)\n",
      "\u001b[34m\u001b[1mengine\\trainer: \u001b[0mtask=detect, mode=train, model=yolov8n.pt, data=dataset_updated.yaml, epochs=50, time=None, patience=100, batch=4, imgsz=1920, save=True, save_period=-1, cache=disk, device=None, workers=8, project=runs/train/lr0.01_ep50_imgsz1920, name=train5, exist_ok=False, pretrained=True, optimizer=AdamW, verbose=True, seed=0, deterministic=True, single_cls=False, rect=False, cos_lr=False, close_mosaic=10, resume=False, amp=True, fraction=1.0, profile=False, freeze=None, multi_scale=False, overlap_mask=True, mask_ratio=4, dropout=0.0, val=True, split=val, save_json=False, save_hybrid=False, conf=None, iou=0.7, max_det=300, half=False, dnn=False, plots=True, source=None, vid_stride=1, stream_buffer=False, visualize=False, augment=False, agnostic_nms=False, classes=None, retina_masks=False, embed=None, show=False, save_frames=False, save_txt=False, save_conf=False, save_crop=False, show_labels=True, show_conf=True, show_boxes=True, line_width=None, format=torchscript, keras=False, optimize=False, int8=False, dynamic=False, simplify=True, opset=None, workspace=None, nms=False, lr0=0.01, lrf=0.01, momentum=0.937, weight_decay=0.0005, warmup_epochs=3.0, warmup_momentum=0.8, warmup_bias_lr=0.1, box=7.5, cls=0.5, dfl=1.5, pose=12.0, kobj=1.0, nbs=64, hsv_h=0.015, hsv_s=0.7, hsv_v=0.4, degrees=0.0, translate=0.1, scale=0.5, shear=0.0, perspective=0.0, flipud=0.0, fliplr=0.5, bgr=0.0, mosaic=1.0, mixup=0.0, copy_paste=0.0, copy_paste_mode=flip, auto_augment=randaugment, erasing=0.4, crop_fraction=1.0, cfg=None, tracker=botsort.yaml, save_dir=runs\\train\\lr0.01_ep50_imgsz1920\\train5\n",
      "Overriding model.yaml nc=80 with nc=1\n",
      "\n",
      "                   from  n    params  module                                       arguments                     \n",
      "  0                  -1  1       464  ultralytics.nn.modules.conv.Conv             [3, 16, 3, 2]                 \n",
      "  1                  -1  1      4672  ultralytics.nn.modules.conv.Conv             [16, 32, 3, 2]                \n",
      "  2                  -1  1      7360  ultralytics.nn.modules.block.C2f             [32, 32, 1, True]             \n",
      "  3                  -1  1     18560  ultralytics.nn.modules.conv.Conv             [32, 64, 3, 2]                \n",
      "  4                  -1  2     49664  ultralytics.nn.modules.block.C2f             [64, 64, 2, True]             \n",
      "  5                  -1  1     73984  ultralytics.nn.modules.conv.Conv             [64, 128, 3, 2]               \n",
      "  6                  -1  2    197632  ultralytics.nn.modules.block.C2f             [128, 128, 2, True]           \n",
      "  7                  -1  1    295424  ultralytics.nn.modules.conv.Conv             [128, 256, 3, 2]              \n",
      "  8                  -1  1    460288  ultralytics.nn.modules.block.C2f             [256, 256, 1, True]           \n",
      "  9                  -1  1    164608  ultralytics.nn.modules.block.SPPF            [256, 256, 5]                 \n",
      " 10                  -1  1         0  torch.nn.modules.upsampling.Upsample         [None, 2, 'nearest']          \n",
      " 11             [-1, 6]  1         0  ultralytics.nn.modules.conv.Concat           [1]                           \n",
      " 12                  -1  1    148224  ultralytics.nn.modules.block.C2f             [384, 128, 1]                 \n",
      " 13                  -1  1         0  torch.nn.modules.upsampling.Upsample         [None, 2, 'nearest']          \n",
      " 14             [-1, 4]  1         0  ultralytics.nn.modules.conv.Concat           [1]                           \n",
      " 15                  -1  1     37248  ultralytics.nn.modules.block.C2f             [192, 64, 1]                  \n",
      " 16                  -1  1     36992  ultralytics.nn.modules.conv.Conv             [64, 64, 3, 2]                \n",
      " 17            [-1, 12]  1         0  ultralytics.nn.modules.conv.Concat           [1]                           \n",
      " 18                  -1  1    123648  ultralytics.nn.modules.block.C2f             [192, 128, 1]                 \n",
      " 19                  -1  1    147712  ultralytics.nn.modules.conv.Conv             [128, 128, 3, 2]              \n",
      " 20             [-1, 9]  1         0  ultralytics.nn.modules.conv.Concat           [1]                           \n",
      " 21                  -1  1    493056  ultralytics.nn.modules.block.C2f             [384, 256, 1]                 \n",
      " 22        [15, 18, 21]  1    751507  ultralytics.nn.modules.head.Detect           [1, [64, 128, 256]]           \n",
      "Model summary: 225 layers, 3,011,043 parameters, 3,011,027 gradients, 8.2 GFLOPs\n",
      "\n",
      "Transferred 319/355 items from pretrained weights\n",
      "\u001b[34m\u001b[1mTensorBoard: \u001b[0mStart with 'tensorboard --logdir runs\\train\\lr0.01_ep50_imgsz1920\\train5', view at http://localhost:6006/\n",
      "Freezing layer 'model.22.dfl.conv.weight'\n",
      "\u001b[34m\u001b[1mAMP: \u001b[0mrunning Automatic Mixed Precision (AMP) checks...\n",
      "\u001b[34m\u001b[1mAMP: \u001b[0mchecks passed \n"
     ]
    },
    {
     "name": "stderr",
     "output_type": "stream",
     "text": [
      "\u001b[34m\u001b[1mtrain: \u001b[0mScanning C:\\Users\\RyzenGaming\\source\\repos\\URI_CapstoneProject\\archive\\train\\labels.cache... 400 images, 0 backgrounds, 0 corrupt: 100%|██████████| 400/\u001b[0m\n",
      "\u001b[34m\u001b[1mtrain: \u001b[0mCaching images (2.3GB Disk): 100%|██████████| 400/400 [00:00<00:00, 15986.52it/s]\u001b[0m\n",
      "\u001b[34m\u001b[1mval: \u001b[0mScanning C:\\Users\\RyzenGaming\\source\\repos\\URI_CapstoneProject\\archive\\val\\labels.cache... 99 images, 0 backgrounds, 0 corrupt: 100%|██████████| 99/99 [00\u001b[0m\n",
      "\u001b[34m\u001b[1mval: \u001b[0mCaching images (0.6GB Disk): 100%|██████████| 99/99 [00:00<00:00, 14120.31it/s]\u001b[0m\n"
     ]
    },
    {
     "name": "stdout",
     "output_type": "stream",
     "text": [
      "Plotting labels to runs\\train\\lr0.01_ep50_imgsz1920\\train5\\labels.jpg... \n",
      "\u001b[34m\u001b[1moptimizer:\u001b[0m AdamW(lr=0.01, momentum=0.937) with parameter groups 57 weight(decay=0.0), 64 weight(decay=0.0005), 63 bias(decay=0.0)\n",
      "\u001b[34m\u001b[1mTensorBoard: \u001b[0mmodel graph visualization added \n",
      "Image sizes 1920 train, 1920 val\n",
      "Using 8 dataloader workers\n",
      "Logging results to \u001b[1mruns\\train\\lr0.01_ep50_imgsz1920\\train5\u001b[0m\n",
      "Starting training for 50 epochs...\n",
      "\n",
      "      Epoch    GPU_mem   box_loss   cls_loss   dfl_loss  Instances       Size\n"
     ]
    },
    {
     "name": "stderr",
     "output_type": "stream",
     "text": [
      "       1/50      5.34G     0.7661     0.9052     0.9199        100       1920: 100%|██████████| 100/100 [00:25<00:00,  4.00it/s]\n",
      "                 Class     Images  Instances      Box(P          R      mAP50  mAP50-95): 100%|██████████| 13/13 [00:01<00:00,  6.64it/s]"
     ]
    },
    {
     "name": "stdout",
     "output_type": "stream",
     "text": [
      "                   all         99        644        0.4      0.491      0.498      0.387\n"
     ]
    },
    {
     "name": "stderr",
     "output_type": "stream",
     "text": [
      "\n"
     ]
    },
    {
     "name": "stdout",
     "output_type": "stream",
     "text": [
      "\n",
      "      Epoch    GPU_mem   box_loss   cls_loss   dfl_loss  Instances       Size\n"
     ]
    },
    {
     "name": "stderr",
     "output_type": "stream",
     "text": [
      "       2/50       5.6G     0.6775     0.5669     0.9095        102       1920: 100%|██████████| 100/100 [00:20<00:00,  4.92it/s]\n",
      "                 Class     Images  Instances      Box(P          R      mAP50  mAP50-95): 100%|██████████| 13/13 [00:01<00:00,  8.95it/s]\n"
     ]
    },
    {
     "name": "stdout",
     "output_type": "stream",
     "text": [
      "                   all         99        644      0.934      0.899       0.95      0.742\n",
      "\n",
      "      Epoch    GPU_mem   box_loss   cls_loss   dfl_loss  Instances       Size\n"
     ]
    },
    {
     "name": "stderr",
     "output_type": "stream",
     "text": [
      "       3/50      5.97G     0.6822     0.5419      0.907         48       1920: 100%|██████████| 100/100 [00:20<00:00,  4.96it/s]\n",
      "                 Class     Images  Instances      Box(P          R      mAP50  mAP50-95): 100%|██████████| 13/13 [00:01<00:00,  8.54it/s]"
     ]
    },
    {
     "name": "stdout",
     "output_type": "stream",
     "text": [
      "                   all         99        644      0.895      0.882      0.961      0.791\n"
     ]
    },
    {
     "name": "stderr",
     "output_type": "stream",
     "text": [
      "\n"
     ]
    },
    {
     "name": "stdout",
     "output_type": "stream",
     "text": [
      "\n",
      "      Epoch    GPU_mem   box_loss   cls_loss   dfl_loss  Instances       Size\n"
     ]
    },
    {
     "name": "stderr",
     "output_type": "stream",
     "text": [
      "       4/50       5.5G     0.6528     0.5337     0.8951         73       1920: 100%|██████████| 100/100 [00:20<00:00,  4.95it/s]\n",
      "                 Class     Images  Instances      Box(P          R      mAP50  mAP50-95): 100%|██████████| 13/13 [00:01<00:00,  8.81it/s]"
     ]
    },
    {
     "name": "stdout",
     "output_type": "stream",
     "text": [
      "                   all         99        644      0.967      0.901      0.959      0.751\n"
     ]
    },
    {
     "name": "stderr",
     "output_type": "stream",
     "text": [
      "\n"
     ]
    },
    {
     "name": "stdout",
     "output_type": "stream",
     "text": [
      "\n",
      "      Epoch    GPU_mem   box_loss   cls_loss   dfl_loss  Instances       Size\n"
     ]
    },
    {
     "name": "stderr",
     "output_type": "stream",
     "text": [
      "       5/50       6.3G     0.5939     0.4625     0.8721         57       1920: 100%|██████████| 100/100 [00:20<00:00,  4.89it/s]\n",
      "                 Class     Images  Instances      Box(P          R      mAP50  mAP50-95): 100%|██████████| 13/13 [00:01<00:00,  8.53it/s]\n"
     ]
    },
    {
     "name": "stdout",
     "output_type": "stream",
     "text": [
      "                   all         99        644      0.965      0.942       0.98      0.798\n",
      "\n",
      "      Epoch    GPU_mem   box_loss   cls_loss   dfl_loss  Instances       Size\n"
     ]
    },
    {
     "name": "stderr",
     "output_type": "stream",
     "text": [
      "       6/50       5.3G     0.5396     0.4153      0.866         80       1920: 100%|██████████| 100/100 [00:20<00:00,  4.82it/s]\n",
      "                 Class     Images  Instances      Box(P          R      mAP50  mAP50-95): 100%|██████████| 13/13 [00:01<00:00,  8.88it/s]\n"
     ]
    },
    {
     "name": "stdout",
     "output_type": "stream",
     "text": [
      "                   all         99        644       0.98       0.89      0.962      0.806\n",
      "\n",
      "      Epoch    GPU_mem   box_loss   cls_loss   dfl_loss  Instances       Size\n"
     ]
    },
    {
     "name": "stderr",
     "output_type": "stream",
     "text": [
      "       7/50      5.72G     0.5443     0.4069     0.8628         55       1920: 100%|██████████| 100/100 [00:20<00:00,  4.96it/s]\n",
      "                 Class     Images  Instances      Box(P          R      mAP50  mAP50-95): 100%|██████████| 13/13 [00:01<00:00,  8.88it/s]"
     ]
    },
    {
     "name": "stdout",
     "output_type": "stream",
     "text": [
      "                   all         99        644      0.987      0.915      0.976      0.813\n"
     ]
    },
    {
     "name": "stderr",
     "output_type": "stream",
     "text": [
      "\n"
     ]
    },
    {
     "name": "stdout",
     "output_type": "stream",
     "text": [
      "\n",
      "      Epoch    GPU_mem   box_loss   cls_loss   dfl_loss  Instances       Size\n"
     ]
    },
    {
     "name": "stderr",
     "output_type": "stream",
     "text": [
      "       8/50      5.68G     0.5124     0.3836     0.8543         85       1920: 100%|██████████| 100/100 [00:20<00:00,  4.97it/s]\n",
      "                 Class     Images  Instances      Box(P          R      mAP50  mAP50-95): 100%|██████████| 13/13 [00:01<00:00,  8.90it/s]"
     ]
    },
    {
     "name": "stdout",
     "output_type": "stream",
     "text": [
      "                   all         99        644      0.981      0.905      0.982      0.831\n"
     ]
    },
    {
     "name": "stderr",
     "output_type": "stream",
     "text": [
      "\n"
     ]
    },
    {
     "name": "stdout",
     "output_type": "stream",
     "text": [
      "\n",
      "      Epoch    GPU_mem   box_loss   cls_loss   dfl_loss  Instances       Size\n"
     ]
    },
    {
     "name": "stderr",
     "output_type": "stream",
     "text": [
      "       9/50      5.21G     0.5176      0.376     0.8514         56       1920: 100%|██████████| 100/100 [00:20<00:00,  4.95it/s]\n",
      "                 Class     Images  Instances      Box(P          R      mAP50  mAP50-95): 100%|██████████| 13/13 [00:01<00:00,  8.82it/s]"
     ]
    },
    {
     "name": "stdout",
     "output_type": "stream",
     "text": [
      "                   all         99        644      0.945      0.915      0.965      0.809\n"
     ]
    },
    {
     "name": "stderr",
     "output_type": "stream",
     "text": [
      "\n"
     ]
    },
    {
     "name": "stdout",
     "output_type": "stream",
     "text": [
      "\n",
      "      Epoch    GPU_mem   box_loss   cls_loss   dfl_loss  Instances       Size\n"
     ]
    },
    {
     "name": "stderr",
     "output_type": "stream",
     "text": [
      "      10/50      5.27G      0.525     0.3736     0.8509         41       1920: 100%|██████████| 100/100 [00:20<00:00,  4.93it/s]\n",
      "                 Class     Images  Instances      Box(P          R      mAP50  mAP50-95): 100%|██████████| 13/13 [00:01<00:00,  8.93it/s]"
     ]
    },
    {
     "name": "stdout",
     "output_type": "stream",
     "text": [
      "                   all         99        644      0.973      0.905      0.951      0.791\n"
     ]
    },
    {
     "name": "stderr",
     "output_type": "stream",
     "text": [
      "\n"
     ]
    },
    {
     "name": "stdout",
     "output_type": "stream",
     "text": [
      "\n",
      "      Epoch    GPU_mem   box_loss   cls_loss   dfl_loss  Instances       Size\n"
     ]
    },
    {
     "name": "stderr",
     "output_type": "stream",
     "text": [
      "      11/50      5.64G      0.504     0.3537     0.8426         93       1920: 100%|██████████| 100/100 [00:20<00:00,  4.95it/s]\n",
      "                 Class     Images  Instances      Box(P          R      mAP50  mAP50-95): 100%|██████████| 13/13 [00:01<00:00,  8.92it/s]"
     ]
    },
    {
     "name": "stdout",
     "output_type": "stream",
     "text": [
      "                   all         99        644      0.979      0.882      0.961      0.832\n"
     ]
    },
    {
     "name": "stderr",
     "output_type": "stream",
     "text": [
      "\n"
     ]
    },
    {
     "name": "stdout",
     "output_type": "stream",
     "text": [
      "\n",
      "      Epoch    GPU_mem   box_loss   cls_loss   dfl_loss  Instances       Size\n"
     ]
    },
    {
     "name": "stderr",
     "output_type": "stream",
     "text": [
      "      12/50      5.25G     0.5113     0.3524     0.8522        138       1920: 100%|██████████| 100/100 [00:20<00:00,  4.82it/s]\n",
      "                 Class     Images  Instances      Box(P          R      mAP50  mAP50-95): 100%|██████████| 13/13 [00:01<00:00,  8.69it/s]"
     ]
    },
    {
     "name": "stdout",
     "output_type": "stream",
     "text": [
      "                   all         99        644      0.952      0.866      0.935      0.772\n"
     ]
    },
    {
     "name": "stderr",
     "output_type": "stream",
     "text": [
      "\n"
     ]
    },
    {
     "name": "stdout",
     "output_type": "stream",
     "text": [
      "\n",
      "      Epoch    GPU_mem   box_loss   cls_loss   dfl_loss  Instances       Size\n"
     ]
    },
    {
     "name": "stderr",
     "output_type": "stream",
     "text": [
      "      13/50      5.31G      0.499     0.3461     0.8459         79       1920: 100%|██████████| 100/100 [00:20<00:00,  4.85it/s]\n",
      "                 Class     Images  Instances      Box(P          R      mAP50  mAP50-95): 100%|██████████| 13/13 [00:01<00:00,  8.62it/s]"
     ]
    },
    {
     "name": "stdout",
     "output_type": "stream",
     "text": [
      "                   all         99        644      0.838      0.935      0.938      0.801\n"
     ]
    },
    {
     "name": "stderr",
     "output_type": "stream",
     "text": [
      "\n"
     ]
    },
    {
     "name": "stdout",
     "output_type": "stream",
     "text": [
      "\n",
      "      Epoch    GPU_mem   box_loss   cls_loss   dfl_loss  Instances       Size\n"
     ]
    },
    {
     "name": "stderr",
     "output_type": "stream",
     "text": [
      "      14/50      5.37G     0.4791      0.334     0.8447         83       1920: 100%|██████████| 100/100 [00:20<00:00,  4.95it/s]\n",
      "                 Class     Images  Instances      Box(P          R      mAP50  mAP50-95): 100%|██████████| 13/13 [00:01<00:00,  8.92it/s]"
     ]
    },
    {
     "name": "stdout",
     "output_type": "stream",
     "text": [
      "                   all         99        644      0.841      0.938      0.947      0.823\n"
     ]
    },
    {
     "name": "stderr",
     "output_type": "stream",
     "text": [
      "\n"
     ]
    },
    {
     "name": "stdout",
     "output_type": "stream",
     "text": [
      "\n",
      "      Epoch    GPU_mem   box_loss   cls_loss   dfl_loss  Instances       Size\n"
     ]
    },
    {
     "name": "stderr",
     "output_type": "stream",
     "text": [
      "      15/50      5.71G     0.4683     0.3241     0.8367         88       1920: 100%|██████████| 100/100 [00:20<00:00,  4.96it/s]\n",
      "                 Class     Images  Instances      Box(P          R      mAP50  mAP50-95): 100%|██████████| 13/13 [00:01<00:00,  8.98it/s]"
     ]
    },
    {
     "name": "stdout",
     "output_type": "stream",
     "text": [
      "                   all         99        644      0.963       0.86      0.955       0.82\n"
     ]
    },
    {
     "name": "stderr",
     "output_type": "stream",
     "text": [
      "\n"
     ]
    },
    {
     "name": "stdout",
     "output_type": "stream",
     "text": [
      "\n",
      "      Epoch    GPU_mem   box_loss   cls_loss   dfl_loss  Instances       Size\n"
     ]
    },
    {
     "name": "stderr",
     "output_type": "stream",
     "text": [
      "      16/50      5.45G     0.4635     0.3162     0.8363         74       1920: 100%|██████████| 100/100 [00:20<00:00,  4.94it/s]\n",
      "                 Class     Images  Instances      Box(P          R      mAP50  mAP50-95): 100%|██████████| 13/13 [00:01<00:00,  8.96it/s]\n"
     ]
    },
    {
     "name": "stdout",
     "output_type": "stream",
     "text": [
      "                   all         99        644      0.907      0.882      0.965      0.843\n",
      "\n",
      "      Epoch    GPU_mem   box_loss   cls_loss   dfl_loss  Instances       Size\n"
     ]
    },
    {
     "name": "stderr",
     "output_type": "stream",
     "text": [
      "      17/50      5.36G     0.4433     0.3042     0.8242         73       1920: 100%|██████████| 100/100 [00:20<00:00,  4.95it/s]\n",
      "                 Class     Images  Instances      Box(P          R      mAP50  mAP50-95): 100%|██████████| 13/13 [00:01<00:00,  8.84it/s]"
     ]
    },
    {
     "name": "stdout",
     "output_type": "stream",
     "text": [
      "                   all         99        644      0.977      0.923      0.969      0.832\n"
     ]
    },
    {
     "name": "stderr",
     "output_type": "stream",
     "text": [
      "\n"
     ]
    },
    {
     "name": "stdout",
     "output_type": "stream",
     "text": [
      "\n",
      "      Epoch    GPU_mem   box_loss   cls_loss   dfl_loss  Instances       Size\n"
     ]
    },
    {
     "name": "stderr",
     "output_type": "stream",
     "text": [
      "      18/50      4.95G     0.4376     0.2985     0.8234         94       1920: 100%|██████████| 100/100 [00:20<00:00,  4.92it/s]\n",
      "                 Class     Images  Instances      Box(P          R      mAP50  mAP50-95): 100%|██████████| 13/13 [00:01<00:00,  8.97it/s]"
     ]
    },
    {
     "name": "stdout",
     "output_type": "stream",
     "text": [
      "                   all         99        644      0.939       0.89      0.965      0.845\n"
     ]
    },
    {
     "name": "stderr",
     "output_type": "stream",
     "text": [
      "\n"
     ]
    },
    {
     "name": "stdout",
     "output_type": "stream",
     "text": [
      "\n",
      "      Epoch    GPU_mem   box_loss   cls_loss   dfl_loss  Instances       Size\n"
     ]
    },
    {
     "name": "stderr",
     "output_type": "stream",
     "text": [
      "      19/50      5.39G     0.4502     0.3015     0.8278         75       1920: 100%|██████████| 100/100 [00:20<00:00,  4.95it/s]\n",
      "                 Class     Images  Instances      Box(P          R      mAP50  mAP50-95): 100%|██████████| 13/13 [00:01<00:00,  8.90it/s]"
     ]
    },
    {
     "name": "stdout",
     "output_type": "stream",
     "text": [
      "                   all         99        644      0.897      0.924      0.954      0.839\n"
     ]
    },
    {
     "name": "stderr",
     "output_type": "stream",
     "text": [
      "\n"
     ]
    },
    {
     "name": "stdout",
     "output_type": "stream",
     "text": [
      "\n",
      "      Epoch    GPU_mem   box_loss   cls_loss   dfl_loss  Instances       Size\n"
     ]
    },
    {
     "name": "stderr",
     "output_type": "stream",
     "text": [
      "      20/50      5.73G     0.4397     0.2979     0.8297         61       1920: 100%|██████████| 100/100 [00:20<00:00,  4.97it/s]\n",
      "                 Class     Images  Instances      Box(P          R      mAP50  mAP50-95): 100%|██████████| 13/13 [00:01<00:00,  8.93it/s]"
     ]
    },
    {
     "name": "stdout",
     "output_type": "stream",
     "text": [
      "                   all         99        644      0.859      0.913       0.93      0.823\n"
     ]
    },
    {
     "name": "stderr",
     "output_type": "stream",
     "text": [
      "\n"
     ]
    },
    {
     "name": "stdout",
     "output_type": "stream",
     "text": [
      "\n",
      "      Epoch    GPU_mem   box_loss   cls_loss   dfl_loss  Instances       Size\n"
     ]
    },
    {
     "name": "stderr",
     "output_type": "stream",
     "text": [
      "      21/50      6.21G     0.4363     0.2942     0.8271         74       1920: 100%|██████████| 100/100 [00:20<00:00,  4.95it/s]\n",
      "                 Class     Images  Instances      Box(P          R      mAP50  mAP50-95): 100%|██████████| 13/13 [00:01<00:00,  8.71it/s]"
     ]
    },
    {
     "name": "stdout",
     "output_type": "stream",
     "text": [
      "                   all         99        644      0.953      0.865      0.956      0.855\n"
     ]
    },
    {
     "name": "stderr",
     "output_type": "stream",
     "text": [
      "\n"
     ]
    },
    {
     "name": "stdout",
     "output_type": "stream",
     "text": [
      "\n",
      "      Epoch    GPU_mem   box_loss   cls_loss   dfl_loss  Instances       Size\n"
     ]
    },
    {
     "name": "stderr",
     "output_type": "stream",
     "text": [
      "      22/50      5.58G     0.4311     0.2883      0.827         82       1920: 100%|██████████| 100/100 [00:20<00:00,  4.93it/s]\n",
      "                 Class     Images  Instances      Box(P          R      mAP50  mAP50-95): 100%|██████████| 13/13 [00:01<00:00,  8.94it/s]\n"
     ]
    },
    {
     "name": "stdout",
     "output_type": "stream",
     "text": [
      "                   all         99        644      0.973      0.908      0.973       0.86\n",
      "\n",
      "      Epoch    GPU_mem   box_loss   cls_loss   dfl_loss  Instances       Size\n"
     ]
    },
    {
     "name": "stderr",
     "output_type": "stream",
     "text": [
      "      23/50      5.23G     0.4264     0.2863     0.8239        100       1920: 100%|██████████| 100/100 [00:20<00:00,  4.98it/s]\n",
      "                 Class     Images  Instances      Box(P          R      mAP50  mAP50-95): 100%|██████████| 13/13 [00:01<00:00,  8.85it/s]"
     ]
    },
    {
     "name": "stdout",
     "output_type": "stream",
     "text": [
      "                   all         99        644      0.972      0.866      0.965      0.852\n"
     ]
    },
    {
     "name": "stderr",
     "output_type": "stream",
     "text": [
      "\n"
     ]
    },
    {
     "name": "stdout",
     "output_type": "stream",
     "text": [
      "\n",
      "      Epoch    GPU_mem   box_loss   cls_loss   dfl_loss  Instances       Size\n"
     ]
    },
    {
     "name": "stderr",
     "output_type": "stream",
     "text": [
      "      24/50      6.18G     0.4391     0.2914     0.8296         97       1920: 100%|██████████| 100/100 [00:20<00:00,  4.98it/s]\n",
      "                 Class     Images  Instances      Box(P          R      mAP50  mAP50-95): 100%|██████████| 13/13 [00:01<00:00,  8.98it/s]"
     ]
    },
    {
     "name": "stdout",
     "output_type": "stream",
     "text": [
      "                   all         99        644      0.952      0.871      0.964      0.841\n"
     ]
    },
    {
     "name": "stderr",
     "output_type": "stream",
     "text": [
      "\n"
     ]
    },
    {
     "name": "stdout",
     "output_type": "stream",
     "text": [
      "\n",
      "      Epoch    GPU_mem   box_loss   cls_loss   dfl_loss  Instances       Size\n"
     ]
    },
    {
     "name": "stderr",
     "output_type": "stream",
     "text": [
      "      25/50      5.49G      0.426     0.2784     0.8263         66       1920: 100%|██████████| 100/100 [00:20<00:00,  4.94it/s]\n",
      "                 Class     Images  Instances      Box(P          R      mAP50  mAP50-95): 100%|██████████| 13/13 [00:01<00:00,  8.98it/s]"
     ]
    },
    {
     "name": "stdout",
     "output_type": "stream",
     "text": [
      "                   all         99        644      0.873      0.928      0.964      0.843\n"
     ]
    },
    {
     "name": "stderr",
     "output_type": "stream",
     "text": [
      "\n"
     ]
    },
    {
     "name": "stdout",
     "output_type": "stream",
     "text": [
      "\n",
      "      Epoch    GPU_mem   box_loss   cls_loss   dfl_loss  Instances       Size\n"
     ]
    },
    {
     "name": "stderr",
     "output_type": "stream",
     "text": [
      "      26/50      5.42G     0.4156     0.2743     0.8234         82       1920: 100%|██████████| 100/100 [00:20<00:00,  4.97it/s]\n",
      "                 Class     Images  Instances      Box(P          R      mAP50  mAP50-95): 100%|██████████| 13/13 [00:01<00:00,  8.95it/s]"
     ]
    },
    {
     "name": "stdout",
     "output_type": "stream",
     "text": [
      "                   all         99        644      0.983      0.922      0.974      0.846\n"
     ]
    },
    {
     "name": "stderr",
     "output_type": "stream",
     "text": [
      "\n"
     ]
    },
    {
     "name": "stdout",
     "output_type": "stream",
     "text": [
      "\n",
      "      Epoch    GPU_mem   box_loss   cls_loss   dfl_loss  Instances       Size\n"
     ]
    },
    {
     "name": "stderr",
     "output_type": "stream",
     "text": [
      "      27/50      5.03G     0.4141     0.2752     0.8269         35       1920: 100%|██████████| 100/100 [00:20<00:00,  4.98it/s]\n",
      "                 Class     Images  Instances      Box(P          R      mAP50  mAP50-95): 100%|██████████| 13/13 [00:01<00:00,  8.88it/s]"
     ]
    },
    {
     "name": "stdout",
     "output_type": "stream",
     "text": [
      "                   all         99        644      0.931      0.891      0.965       0.86\n"
     ]
    },
    {
     "name": "stderr",
     "output_type": "stream",
     "text": [
      "\n"
     ]
    },
    {
     "name": "stdout",
     "output_type": "stream",
     "text": [
      "\n",
      "      Epoch    GPU_mem   box_loss   cls_loss   dfl_loss  Instances       Size\n"
     ]
    },
    {
     "name": "stderr",
     "output_type": "stream",
     "text": [
      "      28/50      5.24G     0.4087      0.268     0.8158         34       1920: 100%|██████████| 100/100 [00:20<00:00,  4.97it/s]\n",
      "                 Class     Images  Instances      Box(P          R      mAP50  mAP50-95): 100%|██████████| 13/13 [00:01<00:00,  8.93it/s]"
     ]
    },
    {
     "name": "stdout",
     "output_type": "stream",
     "text": [
      "                   all         99        644      0.981      0.913      0.975      0.859\n"
     ]
    },
    {
     "name": "stderr",
     "output_type": "stream",
     "text": [
      "\n"
     ]
    },
    {
     "name": "stdout",
     "output_type": "stream",
     "text": [
      "\n",
      "      Epoch    GPU_mem   box_loss   cls_loss   dfl_loss  Instances       Size\n"
     ]
    },
    {
     "name": "stderr",
     "output_type": "stream",
     "text": [
      "      29/50      5.23G     0.4105     0.2655     0.8221         98       1920: 100%|██████████| 100/100 [00:20<00:00,  4.96it/s]\n",
      "                 Class     Images  Instances      Box(P          R      mAP50  mAP50-95): 100%|██████████| 13/13 [00:01<00:00,  8.96it/s]"
     ]
    },
    {
     "name": "stdout",
     "output_type": "stream",
     "text": [
      "                   all         99        644      0.977      0.905      0.963      0.858\n"
     ]
    },
    {
     "name": "stderr",
     "output_type": "stream",
     "text": [
      "\n"
     ]
    },
    {
     "name": "stdout",
     "output_type": "stream",
     "text": [
      "\n",
      "      Epoch    GPU_mem   box_loss   cls_loss   dfl_loss  Instances       Size\n"
     ]
    },
    {
     "name": "stderr",
     "output_type": "stream",
     "text": [
      "      30/50      5.49G     0.4009     0.2623     0.8166         90       1920: 100%|██████████| 100/100 [00:20<00:00,  4.98it/s]\n",
      "                 Class     Images  Instances      Box(P          R      mAP50  mAP50-95): 100%|██████████| 13/13 [00:01<00:00,  8.96it/s]"
     ]
    },
    {
     "name": "stdout",
     "output_type": "stream",
     "text": [
      "                   all         99        644      0.948      0.884       0.95      0.851\n"
     ]
    },
    {
     "name": "stderr",
     "output_type": "stream",
     "text": [
      "\n"
     ]
    },
    {
     "name": "stdout",
     "output_type": "stream",
     "text": [
      "\n",
      "      Epoch    GPU_mem   box_loss   cls_loss   dfl_loss  Instances       Size\n"
     ]
    },
    {
     "name": "stderr",
     "output_type": "stream",
     "text": [
      "      31/50      5.57G     0.4015      0.262      0.814         73       1920: 100%|██████████| 100/100 [00:20<00:00,  4.96it/s]\n",
      "                 Class     Images  Instances      Box(P          R      mAP50  mAP50-95): 100%|██████████| 13/13 [00:01<00:00,  8.68it/s]"
     ]
    },
    {
     "name": "stdout",
     "output_type": "stream",
     "text": [
      "                   all         99        644      0.944      0.884      0.962      0.853\n"
     ]
    },
    {
     "name": "stderr",
     "output_type": "stream",
     "text": [
      "\n"
     ]
    },
    {
     "name": "stdout",
     "output_type": "stream",
     "text": [
      "\n",
      "      Epoch    GPU_mem   box_loss   cls_loss   dfl_loss  Instances       Size\n"
     ]
    },
    {
     "name": "stderr",
     "output_type": "stream",
     "text": [
      "      32/50      5.92G     0.4025     0.2636      0.818         43       1920: 100%|██████████| 100/100 [00:20<00:00,  4.95it/s]\n",
      "                 Class     Images  Instances      Box(P          R      mAP50  mAP50-95): 100%|██████████| 13/13 [00:01<00:00,  8.90it/s]"
     ]
    },
    {
     "name": "stdout",
     "output_type": "stream",
     "text": [
      "                   all         99        644      0.865      0.927      0.952      0.843\n"
     ]
    },
    {
     "name": "stderr",
     "output_type": "stream",
     "text": [
      "\n"
     ]
    },
    {
     "name": "stdout",
     "output_type": "stream",
     "text": [
      "\n",
      "      Epoch    GPU_mem   box_loss   cls_loss   dfl_loss  Instances       Size\n"
     ]
    },
    {
     "name": "stderr",
     "output_type": "stream",
     "text": [
      "      33/50      5.32G     0.3891      0.254     0.8144         62       1920: 100%|██████████| 100/100 [00:20<00:00,  4.99it/s]\n",
      "                 Class     Images  Instances      Box(P          R      mAP50  mAP50-95): 100%|██████████| 13/13 [00:01<00:00,  9.08it/s]"
     ]
    },
    {
     "name": "stdout",
     "output_type": "stream",
     "text": [
      "                   all         99        644      0.887      0.922      0.964      0.854\n"
     ]
    },
    {
     "name": "stderr",
     "output_type": "stream",
     "text": [
      "\n"
     ]
    },
    {
     "name": "stdout",
     "output_type": "stream",
     "text": [
      "\n",
      "      Epoch    GPU_mem   box_loss   cls_loss   dfl_loss  Instances       Size\n"
     ]
    },
    {
     "name": "stderr",
     "output_type": "stream",
     "text": [
      "      34/50      5.23G     0.3826     0.2478     0.8091         77       1920: 100%|██████████| 100/100 [00:20<00:00,  4.97it/s]\n",
      "                 Class     Images  Instances      Box(P          R      mAP50  mAP50-95): 100%|██████████| 13/13 [00:01<00:00,  8.99it/s]"
     ]
    },
    {
     "name": "stdout",
     "output_type": "stream",
     "text": [
      "                   all         99        644      0.925      0.919      0.971      0.872\n"
     ]
    },
    {
     "name": "stderr",
     "output_type": "stream",
     "text": [
      "\n"
     ]
    },
    {
     "name": "stdout",
     "output_type": "stream",
     "text": [
      "\n",
      "      Epoch    GPU_mem   box_loss   cls_loss   dfl_loss  Instances       Size\n"
     ]
    },
    {
     "name": "stderr",
     "output_type": "stream",
     "text": [
      "      35/50      5.38G     0.3932     0.2531     0.8155         63       1920: 100%|██████████| 100/100 [00:20<00:00,  4.98it/s]\n",
      "                 Class     Images  Instances      Box(P          R      mAP50  mAP50-95): 100%|██████████| 13/13 [00:01<00:00,  9.01it/s]"
     ]
    },
    {
     "name": "stdout",
     "output_type": "stream",
     "text": [
      "                   all         99        644      0.933      0.925       0.97      0.872\n"
     ]
    },
    {
     "name": "stderr",
     "output_type": "stream",
     "text": [
      "\n"
     ]
    },
    {
     "name": "stdout",
     "output_type": "stream",
     "text": [
      "\n",
      "      Epoch    GPU_mem   box_loss   cls_loss   dfl_loss  Instances       Size\n"
     ]
    },
    {
     "name": "stderr",
     "output_type": "stream",
     "text": [
      "      36/50      5.68G     0.3769     0.2453     0.8115         53       1920: 100%|██████████| 100/100 [00:20<00:00,  4.98it/s]\n",
      "                 Class     Images  Instances      Box(P          R      mAP50  mAP50-95): 100%|██████████| 13/13 [00:01<00:00,  8.98it/s]"
     ]
    },
    {
     "name": "stdout",
     "output_type": "stream",
     "text": [
      "                   all         99        644      0.842       0.96      0.961      0.858\n"
     ]
    },
    {
     "name": "stderr",
     "output_type": "stream",
     "text": [
      "\n"
     ]
    },
    {
     "name": "stdout",
     "output_type": "stream",
     "text": [
      "\n",
      "      Epoch    GPU_mem   box_loss   cls_loss   dfl_loss  Instances       Size\n"
     ]
    },
    {
     "name": "stderr",
     "output_type": "stream",
     "text": [
      "      37/50      5.27G     0.3845     0.2463     0.8131         65       1920: 100%|██████████| 100/100 [00:20<00:00,  4.97it/s]\n",
      "                 Class     Images  Instances      Box(P          R      mAP50  mAP50-95): 100%|██████████| 13/13 [00:01<00:00,  8.97it/s]\n"
     ]
    },
    {
     "name": "stdout",
     "output_type": "stream",
     "text": [
      "                   all         99        644      0.939      0.887      0.974      0.872\n",
      "\n",
      "      Epoch    GPU_mem   box_loss   cls_loss   dfl_loss  Instances       Size\n"
     ]
    },
    {
     "name": "stderr",
     "output_type": "stream",
     "text": [
      "      38/50      5.61G     0.3849     0.2469     0.8118        103       1920: 100%|██████████| 100/100 [00:20<00:00,  4.95it/s]\n",
      "                 Class     Images  Instances      Box(P          R      mAP50  mAP50-95): 100%|██████████| 13/13 [00:01<00:00,  8.91it/s]"
     ]
    },
    {
     "name": "stdout",
     "output_type": "stream",
     "text": [
      "                   all         99        644      0.919      0.891      0.973      0.869\n"
     ]
    },
    {
     "name": "stderr",
     "output_type": "stream",
     "text": [
      "\n"
     ]
    },
    {
     "name": "stdout",
     "output_type": "stream",
     "text": [
      "\n",
      "      Epoch    GPU_mem   box_loss   cls_loss   dfl_loss  Instances       Size\n"
     ]
    },
    {
     "name": "stderr",
     "output_type": "stream",
     "text": [
      "      39/50      5.31G      0.375     0.2397     0.8098        101       1920: 100%|██████████| 100/100 [00:20<00:00,  4.98it/s]\n",
      "                 Class     Images  Instances      Box(P          R      mAP50  mAP50-95): 100%|██████████| 13/13 [00:01<00:00,  9.03it/s]"
     ]
    },
    {
     "name": "stdout",
     "output_type": "stream",
     "text": [
      "                   all         99        644      0.956      0.876      0.971      0.869\n"
     ]
    },
    {
     "name": "stderr",
     "output_type": "stream",
     "text": [
      "\n"
     ]
    },
    {
     "name": "stdout",
     "output_type": "stream",
     "text": [
      "\n",
      "      Epoch    GPU_mem   box_loss   cls_loss   dfl_loss  Instances       Size\n"
     ]
    },
    {
     "name": "stderr",
     "output_type": "stream",
     "text": [
      "      40/50      5.85G     0.3726     0.2374     0.8073         53       1920: 100%|██████████| 100/100 [00:20<00:00,  4.96it/s]\n",
      "                 Class     Images  Instances      Box(P          R      mAP50  mAP50-95): 100%|██████████| 13/13 [00:01<00:00,  8.98it/s]"
     ]
    },
    {
     "name": "stdout",
     "output_type": "stream",
     "text": [
      "                   all         99        644      0.957      0.888      0.973      0.875\n"
     ]
    },
    {
     "name": "stderr",
     "output_type": "stream",
     "text": [
      "\n"
     ]
    },
    {
     "name": "stdout",
     "output_type": "stream",
     "text": [
      "Closing dataloader mosaic\n",
      "\n",
      "      Epoch    GPU_mem   box_loss   cls_loss   dfl_loss  Instances       Size\n"
     ]
    },
    {
     "name": "stderr",
     "output_type": "stream",
     "text": [
      "      41/50      4.99G     0.3559     0.2252     0.7973         49       1920: 100%|██████████| 100/100 [00:19<00:00,  5.03it/s]\n",
      "                 Class     Images  Instances      Box(P          R      mAP50  mAP50-95): 100%|██████████| 13/13 [00:01<00:00,  8.90it/s]"
     ]
    },
    {
     "name": "stdout",
     "output_type": "stream",
     "text": [
      "                   all         99        644      0.881      0.899      0.949      0.855\n"
     ]
    },
    {
     "name": "stderr",
     "output_type": "stream",
     "text": [
      "\n"
     ]
    },
    {
     "name": "stdout",
     "output_type": "stream",
     "text": [
      "\n",
      "      Epoch    GPU_mem   box_loss   cls_loss   dfl_loss  Instances       Size\n"
     ]
    },
    {
     "name": "stderr",
     "output_type": "stream",
     "text": [
      "      42/50      4.58G     0.3537     0.2227        0.8         42       1920: 100%|██████████| 100/100 [00:19<00:00,  5.10it/s]\n",
      "                 Class     Images  Instances      Box(P          R      mAP50  mAP50-95): 100%|██████████| 13/13 [00:01<00:00,  8.96it/s]"
     ]
    },
    {
     "name": "stdout",
     "output_type": "stream",
     "text": [
      "                   all         99        644      0.887      0.904      0.954      0.862\n"
     ]
    },
    {
     "name": "stderr",
     "output_type": "stream",
     "text": [
      "\n"
     ]
    },
    {
     "name": "stdout",
     "output_type": "stream",
     "text": [
      "\n",
      "      Epoch    GPU_mem   box_loss   cls_loss   dfl_loss  Instances       Size\n"
     ]
    },
    {
     "name": "stderr",
     "output_type": "stream",
     "text": [
      "      43/50      4.61G     0.3555     0.2215     0.7959         42       1920: 100%|██████████| 100/100 [00:19<00:00,  5.09it/s]\n",
      "                 Class     Images  Instances      Box(P          R      mAP50  mAP50-95): 100%|██████████| 13/13 [00:01<00:00,  9.14it/s]"
     ]
    },
    {
     "name": "stdout",
     "output_type": "stream",
     "text": [
      "                   all         99        644      0.938      0.905      0.969       0.87\n"
     ]
    },
    {
     "name": "stderr",
     "output_type": "stream",
     "text": [
      "\n"
     ]
    },
    {
     "name": "stdout",
     "output_type": "stream",
     "text": [
      "\n",
      "      Epoch    GPU_mem   box_loss   cls_loss   dfl_loss  Instances       Size\n"
     ]
    },
    {
     "name": "stderr",
     "output_type": "stream",
     "text": [
      "      44/50       4.6G     0.3526      0.219     0.7984         48       1920: 100%|██████████| 100/100 [00:19<00:00,  5.10it/s]\n",
      "                 Class     Images  Instances      Box(P          R      mAP50  mAP50-95): 100%|██████████| 13/13 [00:01<00:00,  8.96it/s]"
     ]
    },
    {
     "name": "stdout",
     "output_type": "stream",
     "text": [
      "                   all         99        644       0.91      0.905      0.967      0.867\n"
     ]
    },
    {
     "name": "stderr",
     "output_type": "stream",
     "text": [
      "\n"
     ]
    },
    {
     "name": "stdout",
     "output_type": "stream",
     "text": [
      "\n",
      "      Epoch    GPU_mem   box_loss   cls_loss   dfl_loss  Instances       Size\n"
     ]
    },
    {
     "name": "stderr",
     "output_type": "stream",
     "text": [
      "      45/50      4.61G     0.3489     0.2151     0.7939         42       1920: 100%|██████████| 100/100 [00:19<00:00,  5.10it/s]\n",
      "                 Class     Images  Instances      Box(P          R      mAP50  mAP50-95): 100%|██████████| 13/13 [00:01<00:00,  8.95it/s]"
     ]
    },
    {
     "name": "stdout",
     "output_type": "stream",
     "text": [
      "                   all         99        644      0.861      0.941      0.953      0.866\n"
     ]
    },
    {
     "name": "stderr",
     "output_type": "stream",
     "text": [
      "\n"
     ]
    },
    {
     "name": "stdout",
     "output_type": "stream",
     "text": [
      "\n",
      "      Epoch    GPU_mem   box_loss   cls_loss   dfl_loss  Instances       Size\n"
     ]
    },
    {
     "name": "stderr",
     "output_type": "stream",
     "text": [
      "      46/50      4.59G     0.3439     0.2147     0.7934         45       1920: 100%|██████████| 100/100 [00:19<00:00,  5.11it/s]\n",
      "                 Class     Images  Instances      Box(P          R      mAP50  mAP50-95): 100%|██████████| 13/13 [00:01<00:00,  8.52it/s]"
     ]
    },
    {
     "name": "stdout",
     "output_type": "stream",
     "text": [
      "                   all         99        644      0.853      0.953      0.961      0.869\n"
     ]
    },
    {
     "name": "stderr",
     "output_type": "stream",
     "text": [
      "\n"
     ]
    },
    {
     "name": "stdout",
     "output_type": "stream",
     "text": [
      "\n",
      "      Epoch    GPU_mem   box_loss   cls_loss   dfl_loss  Instances       Size\n"
     ]
    },
    {
     "name": "stderr",
     "output_type": "stream",
     "text": [
      "      47/50      4.59G     0.3455     0.2104      0.793         48       1920: 100%|██████████| 100/100 [00:19<00:00,  5.10it/s]\n",
      "                 Class     Images  Instances      Box(P          R      mAP50  mAP50-95): 100%|██████████| 13/13 [00:01<00:00,  8.94it/s]"
     ]
    },
    {
     "name": "stdout",
     "output_type": "stream",
     "text": [
      "                   all         99        644      0.867      0.944      0.963      0.868\n"
     ]
    },
    {
     "name": "stderr",
     "output_type": "stream",
     "text": [
      "\n"
     ]
    },
    {
     "name": "stdout",
     "output_type": "stream",
     "text": [
      "\n",
      "      Epoch    GPU_mem   box_loss   cls_loss   dfl_loss  Instances       Size\n"
     ]
    },
    {
     "name": "stderr",
     "output_type": "stream",
     "text": [
      "      48/50      4.58G     0.3376     0.2053     0.7922         44       1920: 100%|██████████| 100/100 [00:19<00:00,  5.10it/s]\n",
      "                 Class     Images  Instances      Box(P          R      mAP50  mAP50-95): 100%|██████████| 13/13 [00:01<00:00,  8.95it/s]"
     ]
    },
    {
     "name": "stdout",
     "output_type": "stream",
     "text": [
      "                   all         99        644      0.871      0.919      0.953      0.869\n"
     ]
    },
    {
     "name": "stderr",
     "output_type": "stream",
     "text": [
      "\n"
     ]
    },
    {
     "name": "stdout",
     "output_type": "stream",
     "text": [
      "\n",
      "      Epoch    GPU_mem   box_loss   cls_loss   dfl_loss  Instances       Size\n"
     ]
    },
    {
     "name": "stderr",
     "output_type": "stream",
     "text": [
      "      49/50      4.59G     0.3364     0.2013     0.7924         41       1920: 100%|██████████| 100/100 [00:19<00:00,  5.11it/s]\n",
      "                 Class     Images  Instances      Box(P          R      mAP50  mAP50-95): 100%|██████████| 13/13 [00:01<00:00,  8.90it/s]\n"
     ]
    },
    {
     "name": "stdout",
     "output_type": "stream",
     "text": [
      "                   all         99        644      0.929      0.887       0.96      0.872\n",
      "\n",
      "      Epoch    GPU_mem   box_loss   cls_loss   dfl_loss  Instances       Size\n"
     ]
    },
    {
     "name": "stderr",
     "output_type": "stream",
     "text": [
      "      50/50      4.58G     0.3323     0.2013     0.7907         44       1920: 100%|██████████| 100/100 [00:19<00:00,  5.11it/s]\n",
      "                 Class     Images  Instances      Box(P          R      mAP50  mAP50-95): 100%|██████████| 13/13 [00:01<00:00,  8.82it/s]"
     ]
    },
    {
     "name": "stdout",
     "output_type": "stream",
     "text": [
      "                   all         99        644      0.935      0.896      0.964      0.874\n"
     ]
    },
    {
     "name": "stderr",
     "output_type": "stream",
     "text": [
      "\n"
     ]
    },
    {
     "name": "stdout",
     "output_type": "stream",
     "text": [
      "\n",
      "50 epochs completed in 0.319 hours.\n",
      "Optimizer stripped from runs\\train\\lr0.01_ep50_imgsz1920\\train5\\weights\\last.pt, 6.5MB\n",
      "Optimizer stripped from runs\\train\\lr0.01_ep50_imgsz1920\\train5\\weights\\best.pt, 6.5MB\n",
      "\n",
      "Validating runs\\train\\lr0.01_ep50_imgsz1920\\train5\\weights\\best.pt...\n",
      "Ultralytics 8.3.75  Python-3.9.21 torch-2.6.0+cu118 CUDA:0 (NVIDIA GeForce RTX 3060 Ti, 8191MiB)\n",
      "Model summary (fused): 168 layers, 3,005,843 parameters, 0 gradients, 8.1 GFLOPs\n"
     ]
    },
    {
     "name": "stderr",
     "output_type": "stream",
     "text": [
      "                 Class     Images  Instances      Box(P          R      mAP50  mAP50-95): 100%|██████████| 13/13 [00:01<00:00,  7.24it/s]\n"
     ]
    },
    {
     "name": "stdout",
     "output_type": "stream",
     "text": [
      "                   all         99        644      0.957      0.888      0.973      0.875\n",
      "Speed: 0.8ms preprocess, 5.7ms inference, 0.0ms loss, 2.4ms postprocess per image\n",
      "Results saved to \u001b[1mruns\\train\\lr0.01_ep50_imgsz1920\\train5\u001b[0m\n"
     ]
    },
    {
     "ename": "NameError",
     "evalue": "name 'pd' is not defined",
     "output_type": "error",
     "traceback": [
      "\u001b[1;31m---------------------------------------------------------------------------\u001b[0m",
      "\u001b[1;31mNameError\u001b[0m                                 Traceback (most recent call last)",
      "Cell \u001b[1;32mIn[6], line 51\u001b[0m\n\u001b[0;32m     39\u001b[0m results_summary\u001b[38;5;241m.\u001b[39mappend({\n\u001b[0;32m     40\u001b[0m         \u001b[38;5;124m\"\u001b[39m\u001b[38;5;124mlr\u001b[39m\u001b[38;5;124m\"\u001b[39m: lr,\n\u001b[0;32m     41\u001b[0m         \u001b[38;5;124m\"\u001b[39m\u001b[38;5;124mepochs\u001b[39m\u001b[38;5;124m\"\u001b[39m: epochs,\n\u001b[1;32m   (...)\u001b[0m\n\u001b[0;32m     46\u001b[0m         \u001b[38;5;124m\"\u001b[39m\u001b[38;5;124mfitness\u001b[39m\u001b[38;5;124m\"\u001b[39m: rdict\u001b[38;5;241m.\u001b[39mget(\u001b[38;5;124m\"\u001b[39m\u001b[38;5;124mfitness\u001b[39m\u001b[38;5;124m\"\u001b[39m, \u001b[38;5;28;01mNone\u001b[39;00m)\n\u001b[0;32m     47\u001b[0m         })\n\u001b[0;32m     50\u001b[0m \u001b[38;5;66;03m# Convert the results list into a DataFrame for easy viewing\u001b[39;00m\n\u001b[1;32m---> 51\u001b[0m results_df \u001b[38;5;241m=\u001b[39m \u001b[43mpd\u001b[49m\u001b[38;5;241m.\u001b[39mDataFrame(results_summary)\n\u001b[0;32m     52\u001b[0m \u001b[38;5;28mprint\u001b[39m(\u001b[38;5;124m\"\u001b[39m\u001b[38;5;130;01m\\n\u001b[39;00m\u001b[38;5;124mBaseline Metrics for Each Test:\u001b[39m\u001b[38;5;124m\"\u001b[39m)\n\u001b[0;32m     53\u001b[0m \u001b[38;5;28mprint\u001b[39m(results_df)\n",
      "\u001b[1;31mNameError\u001b[0m: name 'pd' is not defined"
     ]
    }
   ],
   "source": [
    "# using the best parameters found, let's train the model with the image size to the actual 1920x1080\n",
    "\n",
    "from ultralytics import YOLO\n",
    "\n",
    "# List to store results from each experiment\n",
    "results_summary = []\n",
    "\n",
    "# Conditionally clear CUDA memory if available\n",
    "if device == \"cuda\":\n",
    "    torch.cuda.empty_cache()\n",
    "    torch.cuda.ipc_collect()\n",
    "else:\n",
    "    print(\"CUDA not available; skipping CUDA memory cleanup.\")\n",
    "\n",
    "# Initialize the model\n",
    "model = YOLO(\"yolov8n.pt\")\n",
    "\n",
    "lr=0.01\n",
    "epochs = 50\n",
    "image_sz = 1920\n",
    "\n",
    "# Train the model with the current hyperparameters\n",
    "results = model.train(\n",
    "        data=\"dataset_updated.yaml\",\n",
    "        epochs=epochs,\n",
    "        batch=4,\n",
    "        imgsz=image_sz,\n",
    "        lr0=lr,\n",
    "        #cache=True,\n",
    "        cache='disk',\n",
    "        optimizer=\"AdamW\",\n",
    "        project=f\"runs/train/lr{lr}_ep{epochs}_imgsz{image_sz}\"\n",
    "        )\n",
    "\n",
    "# Get the results dictionary\n",
    "rdict = results.results_dict  # Contains keys like 'metrics/precision(B)' etc.\n",
    "\n",
    "# Append the metrics along with the hyperparameters to our list\n",
    "results_summary.append({\n",
    "        \"lr\": lr,\n",
    "        \"epochs\": epochs,\n",
    "        \"precision\": rdict.get(\"metrics/precision(B)\", None),\n",
    "        \"recall\": rdict.get(\"metrics/recall(B)\", None),\n",
    "        \"mAP50\": rdict.get(\"metrics/mAP50(B)\", None),\n",
    "        \"mAP50-95\": rdict.get(\"metrics/mAP50-95(B)\", None),\n",
    "        \"fitness\": rdict.get(\"fitness\", None)\n",
    "        })\n",
    "\n",
    "\n",
    "# Convert the results list into a DataFrame for easy viewing\n",
    "results_df = pd.DataFrame(results_summary)\n",
    "print(\"\\nBaseline Metrics for Each Test:\")\n",
    "print(results_df)\n"
   ]
  },
  {
   "cell_type": "code",
   "execution_count": 7,
   "id": "813f381e-8bf0-4554-b7c2-431b2cba2330",
   "metadata": {},
   "outputs": [
    {
     "data": {
      "text/plain": [
       "{'metrics/precision(B)': 0.9572013569173281,\n",
       " 'metrics/recall(B)': 0.8881987577639752,\n",
       " 'metrics/mAP50(B)': 0.9728524568695167,\n",
       " 'metrics/mAP50-95(B)': 0.8749807813921849,\n",
       " 'fitness': 0.8847679489399181}"
      ]
     },
     "execution_count": 7,
     "metadata": {},
     "output_type": "execute_result"
    }
   ],
   "source": [
    "rdict"
   ]
  },
  {
   "cell_type": "code",
   "execution_count": null,
   "id": "a75ef8ee-db69-417c-af29-24d5bd3658d4",
   "metadata": {},
   "outputs": [],
   "source": []
  }
 ],
 "metadata": {
  "accelerator": "GPU",
  "colab": {
   "gpuType": "T4",
   "provenance": []
  },
  "kernelspec": {
   "display_name": "Python 3 (ipykernel)",
   "language": "python",
   "name": "python3"
  },
  "language_info": {
   "codemirror_mode": {
    "name": "ipython",
    "version": 3
   },
   "file_extension": ".py",
   "mimetype": "text/x-python",
   "name": "python",
   "nbconvert_exporter": "python",
   "pygments_lexer": "ipython3",
   "version": "3.9.21"
  }
 },
 "nbformat": 4,
 "nbformat_minor": 5
}
