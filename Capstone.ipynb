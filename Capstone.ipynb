{
 "cells": [
  {
   "cell_type": "code",
   "execution_count": 24,
   "id": "e9fa35aa-d415-48bf-a1a8-791d1a0383bf",
   "metadata": {},
   "outputs": [
    {
     "name": "stdout",
     "output_type": "stream",
     "text": [
      "Working dir: /Users/randy/DSP577/GdriveDownloadTest\n",
      "Skipping download. CarDetectionDataSet.zip or archive already exists.\n",
      "archive already exists. Skipping extraction.\n"
     ]
    }
   ],
   "source": [
    "import os\n",
    "import zipfile\n",
    "import importlib.util\n",
    "import subprocess\n",
    "\n",
    "zip_filename = \"CarDetectionDataSet.zip\"\n",
    "extract_folder = \"archive\"  # Define the folder where files are extracted\n",
    "\n",
    "print(f\"Working dir: {os.getcwd()}\")  # This shows your current working directory\n",
    "\n",
    "# Download only if the zip file and extracted folder don't exist\n",
    "if not os.path.exists(zip_filename) and not os.path.exists(extract_folder):\n",
    "    # Check if gdown is installed before attempting to install\n",
    "    if importlib.util.find_spec(\"gdown\") is None:\n",
    "        print(\"gdown not found. Installing...\")\n",
    "        !pip install gdown\n",
    "\n",
    "    print(f\"{zip_filename} not found. Downloading...\")\n",
    "    !gdown 1JFAfrbUfXtiF-xwko2ACB-snDwIsj31h -O {zip_filename}\n",
    "else:\n",
    "    print(f\"Skipping download. {zip_filename} or {extract_folder} already exists.\")\n",
    "\n",
    "# Extract only if the extracted folder does not exist\n",
    "if not os.path.exists(extract_folder):\n",
    "    print(f\"Extracting {zip_filename}...\")\n",
    "    with zipfile.ZipFile(zip_filename, 'r') as zip_ref:\n",
    "        zip_ref.extractall()\n",
    "    print(f\"Extraction complete: {extract_folder}\")\n",
    "else:\n",
    "    print(f\"{extract_folder} already exists. Skipping extraction.\")\n"
   ]
  },
  {
   "cell_type": "markdown",
   "id": "3f7a1529-0d10-4711-82e9-f022f217e69a",
   "metadata": {},
   "source": [
    "## The data folder has been setup "
   ]
  },
  {
   "cell_type": "code",
   "execution_count": 42,
   "id": "73d4b995-6598-4c5d-9303-5578ad25b537",
   "metadata": {},
   "outputs": [
    {
     "name": "stdout",
     "output_type": "stream",
     "text": [
      "PyTorch Version: 2.2.2\n"
     ]
    }
   ],
   "source": [
    "if importlib.util.find_spec(\"ultralytics\") is None:\n",
    "    print(\"gdown not found. Installing...\")\n",
    "    !pip install ultralytics\n",
    "\n",
    "if importlib.util.find_spec(\"torch\") is None:\n",
    "    print(\"torch not found. Installing...\")\n",
    "    !pip install torch\n",
    "\n",
    "import torch\n",
    "print(\"PyTorch Version:\", torch.__version__)"
   ]
  },
  {
   "cell_type": "code",
   "execution_count": 38,
   "id": "84048bf0-73db-4759-88e1-2481d643f27f",
   "metadata": {},
   "outputs": [
    {
     "name": "stdout",
     "output_type": "stream",
     "text": [
      "Resolved dataset path: /Users/randy/DSP577/GdriveDownloadTest/archive\n"
     ]
    }
   ],
   "source": [
    "import os\n",
    "import platform\n",
    "import yaml\n",
    "\n",
    "\n",
    "# Load the existing dataset.yaml configuration\n",
    "with open('dataset.yaml', 'r') as f:\n",
    "    dataset = yaml.safe_load(f)\n",
    "\n",
    "# Get the current working directory\n",
    "cwd = os.getcwd()\n",
    "\n",
    "# Dynamically adjust the 'path'\n",
    "# This sets an absolute path for ultralytics so that it resolves correctly\n",
    "# Shouldn't be necessary but here we are\n",
    "dataset['path'] = os.path.join(cwd, 'archive')\n",
    "\n",
    "print(\"Resolved dataset path:\", dataset['path'])\n",
    "\n",
    "# Optionally, save this updated configuration to a new file\n",
    "with open('dataset_updated.yaml', 'w') as f:\n",
    "    yaml.dump(dataset, f)"
   ]
  },
  {
   "cell_type": "code",
   "execution_count": 43,
   "id": "88dc2625-ab0a-4522-8df1-3f04e49efefa",
   "metadata": {},
   "outputs": [
    {
     "name": "stdout",
     "output_type": "stream",
     "text": [
      "Training with lr: 0.002, epochs: 1\n",
      "New https://pypi.org/project/ultralytics/8.3.75 available 😃 Update with 'pip install -U ultralytics'\n",
      "Ultralytics 8.3.74 🚀 Python-3.10.16 torch-2.2.2 CPU (Intel Core(TM) i5-6500 3.20GHz)\n",
      "\u001b[34m\u001b[1mengine/trainer: \u001b[0mtask=detect, mode=train, model=yolov8n.pt, data=dataset_updated.yaml, epochs=1, time=None, patience=100, batch=8, imgsz=128, save=True, save_period=-1, cache=disk, device=None, workers=8, project=runs/train/lr0.002_ep1, name=train14, exist_ok=False, pretrained=True, optimizer=AdamW, verbose=True, seed=0, deterministic=True, single_cls=False, rect=False, cos_lr=False, close_mosaic=10, resume=False, amp=True, fraction=1.0, profile=False, freeze=None, multi_scale=False, overlap_mask=True, mask_ratio=4, dropout=0.0, val=True, split=val, save_json=False, save_hybrid=False, conf=None, iou=0.7, max_det=300, half=False, dnn=False, plots=True, source=None, vid_stride=1, stream_buffer=False, visualize=False, augment=False, agnostic_nms=False, classes=None, retina_masks=False, embed=None, show=False, save_frames=False, save_txt=False, save_conf=False, save_crop=False, show_labels=True, show_conf=True, show_boxes=True, line_width=None, format=torchscript, keras=False, optimize=False, int8=False, dynamic=False, simplify=True, opset=None, workspace=None, nms=False, lr0=0.002, lrf=0.01, momentum=0.937, weight_decay=0.0005, warmup_epochs=3.0, warmup_momentum=0.8, warmup_bias_lr=0.1, box=7.5, cls=0.5, dfl=1.5, pose=12.0, kobj=1.0, nbs=64, hsv_h=0.015, hsv_s=0.7, hsv_v=0.4, degrees=0.0, translate=0.1, scale=0.5, shear=0.0, perspective=0.0, flipud=0.0, fliplr=0.5, bgr=0.0, mosaic=1.0, mixup=0.0, copy_paste=0.0, copy_paste_mode=flip, auto_augment=randaugment, erasing=0.4, crop_fraction=1.0, cfg=None, tracker=botsort.yaml, save_dir=runs/train/lr0.002_ep1/train14\n",
      "Overriding model.yaml nc=80 with nc=1\n",
      "\n",
      "                   from  n    params  module                                       arguments                     \n",
      "  0                  -1  1       464  ultralytics.nn.modules.conv.Conv             [3, 16, 3, 2]                 \n",
      "  1                  -1  1      4672  ultralytics.nn.modules.conv.Conv             [16, 32, 3, 2]                \n",
      "  2                  -1  1      7360  ultralytics.nn.modules.block.C2f             [32, 32, 1, True]             \n",
      "  3                  -1  1     18560  ultralytics.nn.modules.conv.Conv             [32, 64, 3, 2]                \n",
      "  4                  -1  2     49664  ultralytics.nn.modules.block.C2f             [64, 64, 2, True]             \n",
      "  5                  -1  1     73984  ultralytics.nn.modules.conv.Conv             [64, 128, 3, 2]               \n",
      "  6                  -1  2    197632  ultralytics.nn.modules.block.C2f             [128, 128, 2, True]           \n",
      "  7                  -1  1    295424  ultralytics.nn.modules.conv.Conv             [128, 256, 3, 2]              \n",
      "  8                  -1  1    460288  ultralytics.nn.modules.block.C2f             [256, 256, 1, True]           \n",
      "  9                  -1  1    164608  ultralytics.nn.modules.block.SPPF            [256, 256, 5]                 \n",
      " 10                  -1  1         0  torch.nn.modules.upsampling.Upsample         [None, 2, 'nearest']          \n",
      " 11             [-1, 6]  1         0  ultralytics.nn.modules.conv.Concat           [1]                           \n",
      " 12                  -1  1    148224  ultralytics.nn.modules.block.C2f             [384, 128, 1]                 \n",
      " 13                  -1  1         0  torch.nn.modules.upsampling.Upsample         [None, 2, 'nearest']          \n",
      " 14             [-1, 4]  1         0  ultralytics.nn.modules.conv.Concat           [1]                           \n",
      " 15                  -1  1     37248  ultralytics.nn.modules.block.C2f             [192, 64, 1]                  \n",
      " 16                  -1  1     36992  ultralytics.nn.modules.conv.Conv             [64, 64, 3, 2]                \n",
      " 17            [-1, 12]  1         0  ultralytics.nn.modules.conv.Concat           [1]                           \n",
      " 18                  -1  1    123648  ultralytics.nn.modules.block.C2f             [192, 128, 1]                 \n",
      " 19                  -1  1    147712  ultralytics.nn.modules.conv.Conv             [128, 128, 3, 2]              \n",
      " 20             [-1, 9]  1         0  ultralytics.nn.modules.conv.Concat           [1]                           \n",
      " 21                  -1  1    493056  ultralytics.nn.modules.block.C2f             [384, 256, 1]                 \n",
      " 22        [15, 18, 21]  1    751507  ultralytics.nn.modules.head.Detect           [1, [64, 128, 256]]           \n",
      "Model summary: 225 layers, 3,011,043 parameters, 3,011,027 gradients, 8.2 GFLOPs\n",
      "\n",
      "Transferred 319/355 items from pretrained weights\n",
      "Freezing layer 'model.22.dfl.conv.weight'\n"
     ]
    },
    {
     "name": "stderr",
     "output_type": "stream",
     "text": [
      "\u001b[34m\u001b[1mtrain: \u001b[0mScanning /Users/randy/DSP577/GdriveDownloadTest/archive/train/labels.cache... 400 images, 0 back\u001b[0m\n",
      "\u001b[34m\u001b[1mtrain: \u001b[0mCaching images (2.3GB Disk): 100%|██████████| 400/400 [00:00<00:00, 37174.48it/s]\u001b[0m\n",
      "\u001b[34m\u001b[1mval: \u001b[0mScanning /Users/randy/DSP577/GdriveDownloadTest/archive/val/labels.cache... 99 images, 0 backgroun\u001b[0m\n",
      "\u001b[34m\u001b[1mval: \u001b[0mCaching images (0.6GB Disk): 100%|██████████| 99/99 [00:00<00:00, 31975.67it/s]\u001b[0m"
     ]
    },
    {
     "name": "stdout",
     "output_type": "stream",
     "text": [
      "Plotting labels to runs/train/lr0.002_ep1/train14/labels.jpg... \n"
     ]
    },
    {
     "name": "stderr",
     "output_type": "stream",
     "text": [
      "\n"
     ]
    },
    {
     "name": "stdout",
     "output_type": "stream",
     "text": [
      "\u001b[34m\u001b[1moptimizer:\u001b[0m AdamW(lr=0.002, momentum=0.937) with parameter groups 57 weight(decay=0.0), 64 weight(decay=0.0005), 63 bias(decay=0.0)\n",
      "Image sizes 128 train, 128 val\n",
      "Using 0 dataloader workers\n",
      "Logging results to \u001b[1mruns/train/lr0.002_ep1/train14\u001b[0m\n",
      "Starting training for 1 epochs...\n",
      "\n",
      "      Epoch    GPU_mem   box_loss   cls_loss   dfl_loss  Instances       Size\n"
     ]
    },
    {
     "name": "stderr",
     "output_type": "stream",
     "text": [
      "        1/1         0G      2.208      1.707     0.9686        105        128: 100%|██████████| 50/50 [\n",
      "                 Class     Images  Instances      Box(P          R      mAP50  mAP50-95): 100%|████████\n"
     ]
    },
    {
     "name": "stdout",
     "output_type": "stream",
     "text": [
      "                   all         99        644          1     0.0638      0.248      0.101\n",
      "\n",
      "1 epochs completed in 0.005 hours.\n",
      "Optimizer stripped from runs/train/lr0.002_ep1/train14/weights/last.pt, 6.2MB\n",
      "Optimizer stripped from runs/train/lr0.002_ep1/train14/weights/best.pt, 6.2MB\n",
      "\n",
      "Validating runs/train/lr0.002_ep1/train14/weights/best.pt...\n",
      "Ultralytics 8.3.74 🚀 Python-3.10.16 torch-2.2.2 CPU (Intel Core(TM) i5-6500 3.20GHz)\n",
      "Model summary (fused): 168 layers, 3,005,843 parameters, 0 gradients, 8.1 GFLOPs\n"
     ]
    },
    {
     "name": "stderr",
     "output_type": "stream",
     "text": [
      "                 Class     Images  Instances      Box(P          R      mAP50  mAP50-95): 100%|████████\n"
     ]
    },
    {
     "name": "stdout",
     "output_type": "stream",
     "text": [
      "                   all         99        644          1     0.0638      0.248      0.101\n",
      "Speed: 0.1ms preprocess, 5.0ms inference, 0.0ms loss, 0.3ms postprocess per image\n",
      "Results saved to \u001b[1mruns/train/lr0.002_ep1/train14\u001b[0m\n",
      "\n",
      "Baseline Metrics for Each Test:\n",
      "      lr  epochs  precision    recall     mAP50  mAP50-95   fitness\n",
      "0  0.002       1        1.0  0.063822  0.248329  0.101432  0.116122\n"
     ]
    }
   ],
   "source": [
    "import pandas as pd\n",
    "from ultralytics import YOLO\n",
    "\n",
    "# Define hyperparameter grid\n",
    "learning_rates = [0.002] #[0.0005, 0.002, 0.01] #, 0.005, 0.01]\n",
    "epochs_list = [1] # , 20, 50] # , 15, 20, 25]\n",
    "\n",
    "# List to store results from each experiment\n",
    "results_summary = []\n",
    "\n",
    "for lr in learning_rates:\n",
    "    for epochs in epochs_list:\n",
    "        print(f\"Training with lr: {lr}, epochs: {epochs}\")\n",
    "        \n",
    "        # Initialize the model\n",
    "        model = YOLO(\"yolov8n.pt\")\n",
    "        \n",
    "        # Train the model with the current hyperparameters\n",
    "        results = model.train(\n",
    "            data=\"dataset_updated.yaml\",   # replace with your dataset YAML file path\n",
    "            epochs=epochs,\n",
    "            batch=8,\n",
    "            imgsz=128,\n",
    "            lr0=lr,\n",
    "            #cache=True,\n",
    "            cache='disk',\n",
    "            optimizer=\"AdamW\",\n",
    "            project=f\"runs/train/lr{lr}_ep{epochs}\"\n",
    "        )\n",
    "        \n",
    "        # Get the results dictionary\n",
    "        rdict = results.results_dict  # Contains keys like 'metrics/precision(B)' etc.\n",
    "        \n",
    "        # Append the metrics along with the hyperparameters to our list\n",
    "        results_summary.append({\n",
    "            \"lr\": lr,\n",
    "            \"epochs\": epochs,\n",
    "            \"precision\": rdict.get(\"metrics/precision(B)\", None),\n",
    "            \"recall\": rdict.get(\"metrics/recall(B)\", None),\n",
    "            \"mAP50\": rdict.get(\"metrics/mAP50(B)\", None),\n",
    "            \"mAP50-95\": rdict.get(\"metrics/mAP50-95(B)\", None),\n",
    "            \"fitness\": rdict.get(\"fitness\", None)\n",
    "        })\n",
    "\n",
    "        \n",
    "        # Conditionally clear CUDA memory if available\n",
    "        if torch.cuda.is_available():\n",
    "            torch.cuda.empty_cache()\n",
    "            torch.cuda.ipc_collect()\n",
    "        else:\n",
    "            print(\"CUDA not available; skipping CUDA memory cleanup.\")\n",
    "\n",
    "\n",
    "# Convert the results list into a DataFrame for easy viewing\n",
    "results_df = pd.DataFrame(results_summary)\n",
    "print(\"\\nBaseline Metrics for Each Test:\")\n",
    "print(results_df)"
   ]
  },
  {
   "cell_type": "code",
   "execution_count": 32,
   "id": "d9b76f9c-7564-46dc-a7c2-ea192497a66e",
   "metadata": {},
   "outputs": [
    {
     "name": "stdout",
     "output_type": "stream",
     "text": [
      "Training images path: /Users/randy/DSP577/GdriveDownloadTest/archive/train/images\n",
      "Validation images path: /Users/randy/DSP577/GdriveDownloadTest/archive/val/images\n"
     ]
    }
   ],
   "source": [
    "import os\n",
    "import yaml\n",
    "\n",
    "# Get the current working directory\n",
    "cwd = os.getcwd()\n",
    "\n",
    "# Load dataset.yaml\n",
    "with open('dataset.yaml') as f:\n",
    "    dataset = yaml.safe_load(f)\n",
    "\n",
    "# Optionally, print the resolved absolute paths for debugging:\n",
    "dataset_root = os.path.join(cwd, dataset['path'])\n",
    "train_path = os.path.join(dataset_root, dataset['train'])\n",
    "val_path = os.path.join(dataset_root, dataset['val'])\n",
    "\n",
    "print(\"Training images path:\", train_path)\n",
    "print(\"Validation images path:\", val_path)\n"
   ]
  },
  {
   "cell_type": "code",
   "execution_count": null,
   "id": "58973bed-6e82-4468-9551-01c252b4ba09",
   "metadata": {},
   "outputs": [],
   "source": []
  }
 ],
 "metadata": {
  "kernelspec": {
   "display_name": "Python 3 (ipykernel)",
   "language": "python",
   "name": "python3"
  },
  "language_info": {
   "codemirror_mode": {
    "name": "ipython",
    "version": 3
   },
   "file_extension": ".py",
   "mimetype": "text/x-python",
   "name": "python",
   "nbconvert_exporter": "python",
   "pygments_lexer": "ipython3",
   "version": "3.10.16"
  }
 },
 "nbformat": 4,
 "nbformat_minor": 5
}
